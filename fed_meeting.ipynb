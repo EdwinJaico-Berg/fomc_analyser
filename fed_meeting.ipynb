{
 "cells": [
  {
   "cell_type": "code",
   "execution_count": 5,
   "id": "5821b573",
   "metadata": {},
   "outputs": [],
   "source": [
    "import whisper\n",
    "from pytube import YouTube"
   ]
  },
  {
   "cell_type": "markdown",
   "id": "828b9a8f",
   "metadata": {},
   "source": [
    "Whisper has a variety of models of varying sizes. The large model will be more accurate but will also be more resource intensive."
   ]
  },
  {
   "cell_type": "code",
   "execution_count": 6,
   "id": "8d744e77",
   "metadata": {},
   "outputs": [
    {
     "name": "stderr",
     "output_type": "stream",
     "text": [
      "100%|███████████████████████████████████████| 139M/139M [00:16<00:00, 8.80MiB/s]\n"
     ]
    }
   ],
   "source": [
    "model = whisper.load_model('base')"
   ]
  },
  {
   "cell_type": "markdown",
   "id": "099f4928",
   "metadata": {},
   "source": [
    "We will now instantiate a \"YouYube\" object by passing in the video URL."
   ]
  },
  {
   "cell_type": "code",
   "execution_count": 14,
   "id": "933585c8",
   "metadata": {},
   "outputs": [],
   "source": [
    "url = \"https://youtu.be/NT2H9iyd-ms\"\n",
    "yt_video = YouTube(url)"
   ]
  },
  {
   "cell_type": "code",
   "execution_count": 15,
   "id": "fc088788",
   "metadata": {},
   "outputs": [
    {
     "data": {
      "text/plain": [
       "'WATCH LIVE | Fed Chair Powell Discusses Latest Fed Rate Hike'"
      ]
     },
     "execution_count": 15,
     "metadata": {},
     "output_type": "execute_result"
    }
   ],
   "source": [
    "yt_video.title"
   ]
  },
  {
   "cell_type": "code",
   "execution_count": 17,
   "id": "37175a15",
   "metadata": {},
   "outputs": [
    {
     "data": {
      "text/plain": [
       "[<Stream: itag=\"17\" mime_type=\"video/3gpp\" res=\"144p\" fps=\"7fps\" vcodec=\"mp4v.20.3\" acodec=\"mp4a.40.2\" progressive=\"True\" type=\"video\">, <Stream: itag=\"18\" mime_type=\"video/mp4\" res=\"360p\" fps=\"30fps\" vcodec=\"avc1.42001E\" acodec=\"mp4a.40.2\" progressive=\"True\" type=\"video\">, <Stream: itag=\"22\" mime_type=\"video/mp4\" res=\"720p\" fps=\"30fps\" vcodec=\"avc1.64001F\" acodec=\"mp4a.40.2\" progressive=\"True\" type=\"video\">, <Stream: itag=\"137\" mime_type=\"video/mp4\" res=\"1080p\" fps=\"30fps\" vcodec=\"avc1.640028\" progressive=\"False\" type=\"video\">, <Stream: itag=\"248\" mime_type=\"video/webm\" res=\"1080p\" fps=\"30fps\" vcodec=\"vp9\" progressive=\"False\" type=\"video\">, <Stream: itag=\"136\" mime_type=\"video/mp4\" res=\"720p\" fps=\"30fps\" vcodec=\"avc1.64001f\" progressive=\"False\" type=\"video\">, <Stream: itag=\"247\" mime_type=\"video/webm\" res=\"720p\" fps=\"30fps\" vcodec=\"vp9\" progressive=\"False\" type=\"video\">, <Stream: itag=\"135\" mime_type=\"video/mp4\" res=\"480p\" fps=\"30fps\" vcodec=\"avc1.4d401f\" progressive=\"False\" type=\"video\">, <Stream: itag=\"244\" mime_type=\"video/webm\" res=\"480p\" fps=\"30fps\" vcodec=\"vp9\" progressive=\"False\" type=\"video\">, <Stream: itag=\"134\" mime_type=\"video/mp4\" res=\"360p\" fps=\"30fps\" vcodec=\"avc1.4d401e\" progressive=\"False\" type=\"video\">, <Stream: itag=\"243\" mime_type=\"video/webm\" res=\"360p\" fps=\"30fps\" vcodec=\"vp9\" progressive=\"False\" type=\"video\">, <Stream: itag=\"133\" mime_type=\"video/mp4\" res=\"240p\" fps=\"30fps\" vcodec=\"avc1.4d4015\" progressive=\"False\" type=\"video\">, <Stream: itag=\"242\" mime_type=\"video/webm\" res=\"240p\" fps=\"30fps\" vcodec=\"vp9\" progressive=\"False\" type=\"video\">, <Stream: itag=\"160\" mime_type=\"video/mp4\" res=\"144p\" fps=\"30fps\" vcodec=\"avc1.4d400c\" progressive=\"False\" type=\"video\">, <Stream: itag=\"278\" mime_type=\"video/webm\" res=\"144p\" fps=\"30fps\" vcodec=\"vp9\" progressive=\"False\" type=\"video\">, <Stream: itag=\"139\" mime_type=\"audio/mp4\" abr=\"48kbps\" acodec=\"mp4a.40.5\" progressive=\"False\" type=\"audio\">, <Stream: itag=\"140\" mime_type=\"audio/mp4\" abr=\"128kbps\" acodec=\"mp4a.40.2\" progressive=\"False\" type=\"audio\">, <Stream: itag=\"249\" mime_type=\"audio/webm\" abr=\"50kbps\" acodec=\"opus\" progressive=\"False\" type=\"audio\">, <Stream: itag=\"250\" mime_type=\"audio/webm\" abr=\"70kbps\" acodec=\"opus\" progressive=\"False\" type=\"audio\">, <Stream: itag=\"251\" mime_type=\"audio/webm\" abr=\"160kbps\" acodec=\"opus\" progressive=\"False\" type=\"audio\">]"
      ]
     },
     "execution_count": 17,
     "metadata": {},
     "output_type": "execute_result"
    }
   ],
   "source": [
    "yt_video.streams"
   ]
  },
  {
   "cell_type": "code",
   "execution_count": 18,
   "id": "47214922",
   "metadata": {},
   "outputs": [
    {
     "name": "stdout",
     "output_type": "stream",
     "text": [
      "<Stream: itag=\"17\" mime_type=\"video/3gpp\" res=\"144p\" fps=\"7fps\" vcodec=\"mp4v.20.3\" acodec=\"mp4a.40.2\" progressive=\"True\" type=\"video\">\n",
      "<Stream: itag=\"18\" mime_type=\"video/mp4\" res=\"360p\" fps=\"30fps\" vcodec=\"avc1.42001E\" acodec=\"mp4a.40.2\" progressive=\"True\" type=\"video\">\n",
      "<Stream: itag=\"22\" mime_type=\"video/mp4\" res=\"720p\" fps=\"30fps\" vcodec=\"avc1.64001F\" acodec=\"mp4a.40.2\" progressive=\"True\" type=\"video\">\n",
      "<Stream: itag=\"137\" mime_type=\"video/mp4\" res=\"1080p\" fps=\"30fps\" vcodec=\"avc1.640028\" progressive=\"False\" type=\"video\">\n",
      "<Stream: itag=\"248\" mime_type=\"video/webm\" res=\"1080p\" fps=\"30fps\" vcodec=\"vp9\" progressive=\"False\" type=\"video\">\n",
      "<Stream: itag=\"136\" mime_type=\"video/mp4\" res=\"720p\" fps=\"30fps\" vcodec=\"avc1.64001f\" progressive=\"False\" type=\"video\">\n",
      "<Stream: itag=\"247\" mime_type=\"video/webm\" res=\"720p\" fps=\"30fps\" vcodec=\"vp9\" progressive=\"False\" type=\"video\">\n",
      "<Stream: itag=\"135\" mime_type=\"video/mp4\" res=\"480p\" fps=\"30fps\" vcodec=\"avc1.4d401f\" progressive=\"False\" type=\"video\">\n",
      "<Stream: itag=\"244\" mime_type=\"video/webm\" res=\"480p\" fps=\"30fps\" vcodec=\"vp9\" progressive=\"False\" type=\"video\">\n",
      "<Stream: itag=\"134\" mime_type=\"video/mp4\" res=\"360p\" fps=\"30fps\" vcodec=\"avc1.4d401e\" progressive=\"False\" type=\"video\">\n",
      "<Stream: itag=\"243\" mime_type=\"video/webm\" res=\"360p\" fps=\"30fps\" vcodec=\"vp9\" progressive=\"False\" type=\"video\">\n",
      "<Stream: itag=\"133\" mime_type=\"video/mp4\" res=\"240p\" fps=\"30fps\" vcodec=\"avc1.4d4015\" progressive=\"False\" type=\"video\">\n",
      "<Stream: itag=\"242\" mime_type=\"video/webm\" res=\"240p\" fps=\"30fps\" vcodec=\"vp9\" progressive=\"False\" type=\"video\">\n",
      "<Stream: itag=\"160\" mime_type=\"video/mp4\" res=\"144p\" fps=\"30fps\" vcodec=\"avc1.4d400c\" progressive=\"False\" type=\"video\">\n",
      "<Stream: itag=\"278\" mime_type=\"video/webm\" res=\"144p\" fps=\"30fps\" vcodec=\"vp9\" progressive=\"False\" type=\"video\">\n",
      "<Stream: itag=\"139\" mime_type=\"audio/mp4\" abr=\"48kbps\" acodec=\"mp4a.40.5\" progressive=\"False\" type=\"audio\">\n",
      "<Stream: itag=\"140\" mime_type=\"audio/mp4\" abr=\"128kbps\" acodec=\"mp4a.40.2\" progressive=\"False\" type=\"audio\">\n",
      "<Stream: itag=\"249\" mime_type=\"audio/webm\" abr=\"50kbps\" acodec=\"opus\" progressive=\"False\" type=\"audio\">\n",
      "<Stream: itag=\"250\" mime_type=\"audio/webm\" abr=\"70kbps\" acodec=\"opus\" progressive=\"False\" type=\"audio\">\n",
      "<Stream: itag=\"251\" mime_type=\"audio/webm\" abr=\"160kbps\" acodec=\"opus\" progressive=\"False\" type=\"audio\">\n"
     ]
    }
   ],
   "source": [
    "for stream in yt_video.streams:\n",
    "    print(stream)"
   ]
  },
  {
   "cell_type": "code",
   "execution_count": 20,
   "id": "2d4a47ff",
   "metadata": {},
   "outputs": [
    {
     "name": "stdout",
     "output_type": "stream",
     "text": [
      "Streams\n",
      "[<Stream: itag=\"139\" mime_type=\"audio/mp4\" abr=\"48kbps\" acodec=\"mp4a.40.5\" progressive=\"False\" type=\"audio\">, <Stream: itag=\"140\" mime_type=\"audio/mp4\" abr=\"128kbps\" acodec=\"mp4a.40.2\" progressive=\"False\" type=\"audio\">, <Stream: itag=\"249\" mime_type=\"audio/webm\" abr=\"50kbps\" acodec=\"opus\" progressive=\"False\" type=\"audio\">, <Stream: itag=\"250\" mime_type=\"audio/webm\" abr=\"70kbps\" acodec=\"opus\" progressive=\"False\" type=\"audio\">, <Stream: itag=\"251\" mime_type=\"audio/webm\" abr=\"160kbps\" acodec=\"opus\" progressive=\"False\" type=\"audio\">]\n",
      "Number of streams: 5\n"
     ]
    }
   ],
   "source": [
    "streams = yt_video.streams.filter(only_audio=True)\n",
    "print(\"Streams\")\n",
    "print(streams)\n",
    "print(f\"Number of streams: {len(streams)}\")"
   ]
  },
  {
   "cell_type": "code",
   "execution_count": 21,
   "id": "5783fc35",
   "metadata": {},
   "outputs": [
    {
     "name": "stdout",
     "output_type": "stream",
     "text": [
      "<Stream: itag=\"139\" mime_type=\"audio/mp4\" abr=\"48kbps\" acodec=\"mp4a.40.5\" progressive=\"False\" type=\"audio\">\n"
     ]
    }
   ],
   "source": [
    "stream = streams.first()\n",
    "print(stream)"
   ]
  },
  {
   "cell_type": "code",
   "execution_count": 22,
   "id": "24876f21",
   "metadata": {},
   "outputs": [
    {
     "data": {
      "text/plain": [
       "'/Users/ejb/Library/CloudStorage/OneDrive-Personal/Documents/projects/whisper/fed_meeting.mp4'"
      ]
     },
     "execution_count": 22,
     "metadata": {},
     "output_type": "execute_result"
    }
   ],
   "source": [
    "stream.download(filename=\"fed_meeting.mp4\")"
   ]
  },
  {
   "cell_type": "markdown",
   "id": "e7e308eb",
   "metadata": {},
   "source": [
    "## Cleaning the file\n",
    "\n",
    "Although we have downloaded the audio file which we will be working on there is an initial silence in the video of around ~6 minutes, which we will remove using `FFmpeg`."
   ]
  },
  {
   "cell_type": "code",
   "execution_count": 28,
   "id": "7096c7e3",
   "metadata": {},
   "outputs": [
    {
     "name": "stdout",
     "output_type": "stream",
     "text": [
      "ffmpeg version 4.2.2 Copyright (c) 2000-2019 the FFmpeg developers\n",
      "  built with clang version 4.0.1 (tags/RELEASE_401/final)\n",
      "  configuration: --prefix=/opt/concourse/worker/volumes/live/d5b9ea1c-8223-4ff6-7416-83e6b4cd6874/volume/ffmpeg_1587154914508/_h_env_placehold_placehold_placehold_placehold_placehold_placehold_placehold_placehold_placehold_placehold_placehold_placehold_placehold_placehold_placehol --cc=x86_64-apple-darwin13.4.0-clang --disable-doc --enable-avresample --enable-gmp --enable-hardcoded-tables --enable-libfreetype --enable-libvpx --enable-pthreads --enable-libopus --enable-postproc --enable-pic --enable-pthreads --enable-shared --enable-static --enable-version3 --enable-zlib --enable-libmp3lame --disable-nonfree --enable-gpl --enable-gnutls --disable-openssl --enable-libopenh264 --enable-libx264\n",
      "  libavutil      56. 31.100 / 56. 31.100\n",
      "  libavcodec     58. 54.100 / 58. 54.100\n",
      "  libavformat    58. 29.100 / 58. 29.100\n",
      "  libavdevice    58.  8.100 / 58.  8.100\n",
      "  libavfilter     7. 57.100 /  7. 57.100\n",
      "  libavresample   4.  0.  0 /  4.  0.  0\n",
      "  libswscale      5.  5.100 /  5.  5.100\n",
      "  libswresample   3.  5.100 /  3.  5.100\n",
      "  libpostproc    55.  5.100 / 55.  5.100\n",
      "Input #0, mov,mp4,m4a,3gp,3g2,mj2, from 'fed_meeting.mp4':\n",
      "  Metadata:\n",
      "    major_brand     : dash\n",
      "    minor_version   : 0\n",
      "    compatible_brands: iso6mp41\n",
      "    creation_time   : 2022-11-05T10:36:04.000000Z\n",
      "  Duration: 01:00:53.85, start: 0.000000, bitrate: 48 kb/s\n",
      "    Stream #0:0(eng): Audio: aac (HE-AAC) (mp4a / 0x6134706D), 44100 Hz, stereo, fltp, 0 kb/s (default)\n",
      "    Metadata:\n",
      "      creation_time   : 2022-11-05T10:36:04.000000Z\n",
      "      handler_name    : ISO Media file produced by Google Inc.\n",
      "Stream mapping:\n",
      "  Stream #0:0 -> #0:0 (aac (native) -> aac (native))\n",
      "Press [q] to stop, [?] for help\n",
      "Output #0, mp4, to 'fed_meeting_trimmed.mp4':\n",
      "  Metadata:\n",
      "    major_brand     : dash\n",
      "    minor_version   : 0\n",
      "    compatible_brands: iso6mp41\n",
      "    encoder         : Lavf58.29.100\n",
      "    Stream #0:0(eng): Audio: aac (LC) (mp4a / 0x6134706D), 44100 Hz, stereo, fltp, 128 kb/s (default)\n",
      "    Metadata:\n",
      "      creation_time   : 2022-11-05T10:36:04.000000Z\n",
      "      handler_name    : ISO Media file produced by Google Inc.\n",
      "      encoder         : Lavc58.54.100 aac\n",
      "size=   43047kB time=00:45:15.01 bitrate= 129.9kbits/s speed= 145x    \n",
      "video:0kB audio:42589kB subtitle:0kB other streams:0kB global headers:0kB muxing overhead: 1.075647%\n",
      "\u001b[1;36m[aac @ 0x7fbdf9021400] \u001b[0mQavg: 228.602\n"
     ]
    }
   ],
   "source": [
    "!ffmpeg -ss 378 -i fed_meeting.mp4 -t 2715 fed_meeting_trimmed.mp4"
   ]
  },
  {
   "cell_type": "markdown",
   "id": "8bb1d19f",
   "metadata": {},
   "source": [
    "## Transcribing the audio\n",
    "\n",
    "Now that we have trimmed the audio we are able to pass this into the model that we built with whisper."
   ]
  },
  {
   "cell_type": "code",
   "execution_count": 29,
   "id": "a50d15a5",
   "metadata": {},
   "outputs": [
    {
     "name": "stderr",
     "output_type": "stream",
     "text": [
      "/Users/ejb/opt/anaconda3/envs/whisper/lib/python3.8/site-packages/whisper/transcribe.py:78: UserWarning: FP16 is not supported on CPU; using FP32 instead\n",
      "  warnings.warn(\"FP16 is not supported on CPU; using FP32 instead\")\n"
     ]
    }
   ],
   "source": [
    "transcription = model.transcribe(\"fed_meeting_trimmed.mp4\")"
   ]
  },
  {
   "cell_type": "markdown",
   "id": "49f96adb",
   "metadata": {},
   "source": [
    "The `transcription` will be a dictionary which will contain the `text` key for the entire transcription. The dictionary will also contain tokens from the text itself which can be accessed individually."
   ]
  },
  {
   "cell_type": "code",
   "execution_count": 30,
   "id": "bab1ec04",
   "metadata": {},
   "outputs": [
    {
     "name": "stdout",
     "output_type": "stream",
     "text": [
      " Good afternoon. My colleagues and I are strongly committed to bringing inflation back down to our 2% goal. We have both the tools that we need and the resolve it will take to restore price stability on behalf of American families and businesses. Price stability is the responsibility of the Federal Reserve and serves as the bedrock of our economy. Without price stability, the economy does not work for anyone. In particular, without price stability, we will not achieve a sustained period of strong labor market conditions that benefit all. Today, the FOMC raised our policy interest rate by 75 basis points and we continue to anticipate that ongoing increases will be appropriate. We are moving our policy stance purposefully to a level that will be sufficiently restrictive to return inflation to 2%. In addition, we are continuing the process of significantly reducing the size of our balance sheet. Restoring price stability will likely require maintaining a restrictive stance of policy for some time. I will have more to say about today's monetary policy actions after briefly reviewing economic developments. The U.S. economy has slowed significantly from last year's rapid pace. Real GDP rose at a pace of 2.6% last quarter but is unchanged so far this year. Recent indicators point to modest growth of spending and production this quarter. Growth in consumer spending has slowed from last year's rapid pace in part reflecting lower real disposable income and tighter financial conditions. Activity in the housing sector has weakened significantly, largely reflecting higher mortgage rates. Higher interest rates and slower output growth also appear to be weighing on business fixed investment. Despite the slowdown in growth, the labor market remains extremely tight with the unemployment rate at a 50-year low. Job vacancies still very high and wage growth elevated. Job gains have been robust with employment rising by an average of 289,000 jobs per month over August and September. Although job vacancies have moved below their highs and the pace of job gains has slowed from earlier in the year, the labor market continues to be out of balance, with demand substantially exceeding the supply of available workers. The labor force participation rate is little changed since the beginning of the year. Inflation remains well above our longer run goal of 2%. Over the 12 months ending in September, total PCE prices rose at 6.2%, excluding the volatile food and energy categories, core PCE prices rose at 5.1%. The recent inflation data again have come in higher than expected. Price pressures remained evident across a broad range of goods and services. Russia's war against Ukraine has boosted prices for energy and food and has created additional upward pressure on inflation. Despite elevated inflation, longer term inflation expectations appear to remain well anchored, as reflected in a broad range of surveys of households, businesses, and forecasters, as well as measures from financial markets. But that is not grounds for complacency. The longer the current amount of high inflation continues, the greater the chance that expectations of higher inflation will become entrenched. The Fed's monetary policy actions are guided by our mandate to promote maximum employment and stable prices for the American people. My colleagues and I are acutely aware that high inflation imposes significant hardship and is at erode's purchasing power, especially for those least able to meet the higher costs of essentials like food, housing, and transportation. We are highly attentive to the risks that high inflation poses to both sides of our mandate, and we're strongly committed to returning inflation to our 2% objective. At today's meeting, the committee raised the target range for the federal funds rate by 75 basis points. And we are continuing the process of significantly reducing the size of our balance sheet, which plays an important role in affirming the stance of monetary policy. With today's action, we've raised interest rates by 3 and 3-quarters percentage points this year. We anticipate that ongoing increases in the target range for the federal funds rate will be appropriate in order to attain a stance of monetary policy that is sufficiently restrictive to return inflation to 2% over time. Financial conditions have tightened significantly in response to our policy actions, and we are seeing the effects on demand in the most interest rate sensitive sectors of the economy, such as housing. It will take time, however, for the full effects of monetary restraint to be realized, especially on inflation. That's why we say in our statement that in determining the pace of future increases in the target range, we will take into account the cumulative tightening of monetary policy and the lags with which monetary policy affects economic activity and inflation. At some point, as I've said in the last two press conferences, it will become appropriate to slow the pace of increases as we approach the level of interest rates that will be sufficiently restrictive to bring inflation down to our 2% goal. There is significant uncertainty around that level of interest rates. Even so, we still have some ways to go, and incoming data since our last meeting suggests that the ultimate level of interest rates will be higher than previously expected. Our decisions will depend on the totality of incoming data and their implications for the outlook for economic activity and inflation. We will continue to make our decisions meeting by being and communicate our thinking as clearly as possible. We're taking forceful steps to moderate demand so that it comes into better alignment with supply. Our overarching focus is using our tools to bring inflation back down to our 2% goal and to keep longer term inflation expectations well anchored. Reducing inflation is likely to require a sustained period of below trend growth and some softening of labor market conditions. Restoring price stability is essential to set the stage for achieving maximum employment and stable prices in the longer run. The historical record caution strongly against prematurely loosening policy. We will stay the course until the job is done. To conclude, we understand that our actions affect communities, families and businesses across the country. Everything we do is in service to our public mission. We at the Fed will do everything we can to achieve our maximum employment and price stability goals. Thank you and I look forward to your questions. Thank you, Colby. Thank you. Colby Smith with the Financial Times. On the need to slow the pace of rate increases at some point. Is a is a downshift contingent on a string of better inflation data specifically between now and let's say the December meeting? Is that something that the Fed could potentially proceed with independent of that data given the lag defects that you mentioned? So a couple of things on that. We do need to see inflation coming down decisively and good at evidence of that would be a series of down monthly readings. Of course that's what we'd all love to see. But that's I've never thought of that as the appropriate test for slowing the pace of increases or for identifying the appropriately restrictive level that we're aiming for. We need to bring our policy stance down to a level that's sufficiently restrictive to bring inflation down to our 2% objective over the medium term. How will we know that we've reached that level? Well, we'll take into account the full range of analysis and data that bear on that question guided by our assessment of how much financial conditions have tightened the effects of that tightening is actually having on the real economy and on inflation. Taking into consideration lags as I mentioned. We will be looking at real rates, for example, all across the yield curve and all other financial conditions. And as we make that assessment. I would say. Hi, how are you not with with rotors? Look, I'm sure there's going to be tons of confusion out there about whether this means you're going to slow in December or not. Would you say that the bias right now is not for another 75 basis point increase? What I want to do is put that question of pace in the context of our broader tightening program, if I may, and to talk about the statement language along the way. So I think you can think about our tightening program as really addressing three questions. The first of which was and has been how fast to go. The second is how high to raise our policy rate and the third will be eventually how long to remain at a restrictive level. On the first question, how fast to tighten policy. It's been very important that we move expeditiously and we have clearly done so. We've moved three and three quarters percent since March, admittedly from a base of zero. It's a historically fast pace and that's certainly appropriate given the persistence and strength and inflation and the low level from which we started. So now we come to the second question, which is how high to raise our policy rate and we're saying that we'd raise that rate to a level that's sufficiently restrictive to bring inflation to our 2% target over time. And we put that into our post meeting statement because that really does become the important question we think now is how far to go. And I'll talk more about that. I think there's some ground to cover but before we meet that test and that's why we say that ongoing rate increases will be appropriate. And as I mentioned, incoming data between the meetings, both the strong labor market report, but particularly the CPI report, do suggest to me that we may ultimately move to higher levels than we thought at the time of the September meeting. That level is very uncertain though and I would say, you know, we're going to find it over time. Of course, with the lags between policy and economic activity, there's a lot of uncertainty. So we note that in determining the pace of future increases will take into account the cumulative tightening of monetary policy as well as the lags with monetary policy affects economic activity and inflation. So I would say as we come closer to that level, move more into restrictive territory. The question of speed becomes less important than the second and third questions. And that's why I've said it the last two press conferences that at some point it will become appropriate to slow the pace of increases. So that time is coming and it may come as soon as the next meeting or the one after that. No decision has been made. It is likely we'll have a discussion about this at the next meeting, a discussion. To be clear, let me say again, the question of when to moderate the pace of increases is now much less important than the question of how high to raise rates and how long to keep monetary policy restricted, which really will be our principal focus. So I think I could follow up on that. To what degree was there an importance or weight given to a need to signal this possibility now given all the concerns really around the globe about fed policy sort of driving ahead and everybody else dealing with their own stress as a result. I think I'm pleased that we have moved as fast as we have. I don't think we've over tightened. I think there's very difficult to make a case that our current level is too tight given that inflation still runs well above the federal funds rate. So I think that at this meeting, the last two meetings, as I've mentioned, I've said that we that there would come a point and this was a meeting at which we had a discussion about what that might mean. And we did discuss this and as I mentioned, we'll discuss it again in December. But there's no, I don't have any sense that we've over tightened or moved too fast. I think I think it's been good in a successful program. We that we've gotten this far this fast. Remember though that that we still think there's a need for ongoing rate increases. And we have some ground left to cover here and and cover it we will. Nick Temeros of the Wall Street Journal, chair Powell, core BCE inflation on a three or six month annualized basis and on a 12 month basis has been running in the high fours close to 5%. Is there any reason to think you won't have to raise rates at least above that level to be confident that you are imparting enough restraint to bring inflation down? Well, this is the question of does the policy rate need to get above the inflation rate? And I would say there are a range of views on that. That's the classic Taylor principle view. But I would think you'd look more at a forward, you know, a forward looking measure of inflation to look at that. I think the answer is we'll want to get the policy rate to a level where it is where the where the real interest rate is positive. We will want to do that. I do not think of it as the as the single and only touchdown though. I think you put some weight on that. You also put some weight on rates across the curve. Very few people borrow at the short end of the federal funds rate, for example. So households and businesses, if they're very, you know, meaningfully positive interest rates all across the curve for them. Credspits spreads are larger. So barring rates are significantly higher. And I think financial conditions have tightened quite a bit. So I would look at that as an important feature. I'd put some weight on it, but I wouldn't say it's it's it's something that that is the single dominant thing to look at. If I could follow up what what is your best assessment or the staff's best assessment right now of the current rate of underlying inflation? I don't have a specific number for you there. There are many, many models that look at that. And I mean one way to look at it is that it's a pretty stationary object. And that when inflation runs above above that level for sure substantially above for some time. You'll see it move up, but the movement will be will be fairly gradual. So I think that's what that's what the principal models would would tend to say, but I wouldn't want to land on any one assessment. There are many different. As you know, many different people publish an assessment of underlying inflation. Thank you. I had your pal. Thank you for taking our questions. Gina Smiley, New York Times. I wonder, do you see any evidence at this stage that inflation is or is it risk of becoming entrenched? Is inflation becoming entrenched? So I guess I would start by pointing to expectations. So if we saw longer term expectations moving up, that would be very troubling. And they were moving up a little bit in the middle part of this year and they move now back down. That's one piece of data. Short term inflation expectation moved up between the last, the last meeting in this meeting. And we don't think those are as indicative, but they may be important in the wage setting process. There's a school thought that believes that. That's very concerning. I guess the other thing I would say is that the longer we have, we're now 18 months into this episode of high inflation. And we don't have, you know, clearly identified scientific way of understanding at what point inflation becomes entrenched. And so, you know, the thing we need to do from a risk management standpoint is to use our tools forcefully, but thoughtfully and get inflation under control, get it down to 2% get it behind us. That's what we really need to do and what we're strongly committed to doing. Rachel. Hi, Terpowell. Thank you for taking your questions. Rachel Segal from the Washington Post. The statement points to the lag times. I'm wondering if you can walk us through how you judge those lag effects, what that timeline looks like over the coming months or even a year, and where you would expect it to show up in different parts of the economy. Yeah, so the way I would think about that is it's, you know, it's a it's a commonly for a long time thought that monetary policy works with long and variable legs and that it works first on financial conditions and then on economic activity and then perhaps later than that even on inflation. That's that's been the thinking for a long time. There was an old literature that made those lags out to be fairly long. There's newer literature that says that they're shorter and, you know, the truth is we don't have a lot of data of inflation of this high in what is now the minor economy. One big difference now is that it used to be that you would raise the federal funds rate financial conditions would react and then that would affect economic activity inflation now financial conditions react well before in expectation of monetary policy. That's the way it is moved for a quarter of a century is in the direction of financial conditions then monetary policy because because the markets are thinking what's, you know, what is the central bank in a do. And you know, there are there are plenty of economists that also think that once financial conditions change that the effects on the economy are actually faster than they would have been before. We don't know that. I guess the thing I would say is it's highly uncertain, highly uncertain. And so from risk management standpoint, we do need it would be irresponsible not to to ignore them, but you want to consider them but not not take them literally. So I think it's a very difficult place to be, but I would tend to be want to be in the middle looking carefully at what's actually happening with the economy and trying to make good decisions from a risk management standpoint. Remembering, of course, that, you know, if we were to over tighten, we could then use our tools strongly to support the economy, whereas if we, if we don't get inflation under control because we know tighten enough, now we're in a situation where inflation will become entrenched and the costs, the employment costs in particular will be much higher potentially. So for risk management standpoint, we want to be sure that we that we don't make the mistake of either failing to tighten enough or loosening policy too soon. And if I could follow up, should we interpret the addition to the statement to mean that more weight is put into those logistics and they would have been after previous rate heights. I think as we as we move now into restrictive territory, as we make these ongoing rate hikes and policy becomes more restrictive, it'll be appropriate now to be thinking more about like, of course, we think about the lags are just sort of a basic part of monetary policy, but we will be thinking about them. But we won't be, you know, I think we'll be considering them, but because it's appropriate to do so. Let me say this, it's, it's, it is very premature to be thinking about pausing. So people, when they hear lags, they think about about a pause. It's very premature in my view to think about or be talking about pausing our rate hike. We have, we have a ways to go our policy. We need ongoing rate hikes to get to, to, to that level of sufficiently restrictive. And we don't, of course, we don't really know exactly where that is. We have a sense and we'll write down in September, sorry, in the December meeting a new, a new summary of economic projections, which updates that, but I would expect us to continue updated based on what we're seeing with incoming data. Thanks, Chair Powell and Yulor, and Vaxios. As you look around the economy, the clearest impact of their tightening so far has been on housing, maybe some venture fund attack companies. It's been relatively narrow in terms of labor market, consumer demand, a lot of sectors, you don't see a ton of effect. Is the pathway and channels through which monetary policy works changing, is it narrower than it used to be? And on housing in particular, are you, at all, worried that you're crimping housing supply in ways that might cause problems down the road? I don't know that the channels through which policy works have changed that much. I would say a big channel is the labor market and the labor market is very, very strong, very strong. And household, of course, have strong balance sheets. So we go into this with a strong labor market and excess demand in the labor market, as you can see through many different things, and also with households who have strong spending power built up. So it may take time, it may take resolve, it may take patience, it's likely to get inflation down. I think you see from our forecast and others that it will take some time for inflation to come down, it'll take time, we think. So, sorry, was that getting to your question there? Housing, the housing part of it. We look at housing, of course, housing is significantly affected by these higher rates, which are really back where they were before the global financial crisis. They're not historically high, but they're much higher than they've been. And you're seeing housing activity decline, you're seeing housing prices growing at a faster rate, and in some parts of the country declining. And say, housing, housing market was very overheated for the couple of years after the pandemic, as demand increased in rates were low. We all know the stories of how overheated the housing market was, prices going up, many, many bidders, no conditions, that kind of thing. The housing market needs to get back into a balance between supply and demand. We're well aware of what's going on there. From a financial stability standpoint, we didn't see in this cycle the kinds of poor credit underwriting that we saw before the global financial crisis. Credit was very carefully, much more carefully managed by the lenders. So it's a very different situation and doesn't present potential financial, doesn't appear to present financial stability issues. But no, we do understand that that's really where a very big effect of our policy is. Victoria. Hi, Victoria, Guida with Politico. I wanted to ask about the labor market. You mentioned early on again that job openings are very high compared to available workers. And I'm just curious to what extent you do and don't draw a signal from that. So for example, if wage growth is slowing, and if maybe the unemployment rate starts to take up, will that make you sort of decrease your focus on jobs? What do you see on job openings? What are you seeing? Are wages what's really important? How are you thinking about the labor market as it relates to inflation? So we talk a lot about about vacancies and the vacancy to unemployed rate, but it's just one. It's just another data series. It's been, you know, unusually important in this cycle because it's been so out of line, but so has quits, so have wages. So we look at, you know, very wide range of data on the on the on the labor market. So, you know, I'd start with unemployment, which is typically this single statistic you would look to is at a 50 year low, 3.5%. We're getting really nothing in labor supply now. We had, I think, very small increase this year, which we had really thought we thought we would get that back most analysts thought we would get some labor supply coming in. You mentioned wages. So I guess I would characterize that as sort of a mixed picture. It's true with average hourly earnings. You see, so I would call it a flattening out at a level that's well above the level that would be consistent over time with 2% inflation, you know, assuming a reasonable productivity there with the with the ECI reading this week again, a mixed picture. The headline number was a disappointment. Let's just say it was it was high. It didn't show a decline. There's some raise of light inside that, you know, that if you look at private sector workers that did come down, the compensation did come down. But overall though, the broader picture is of an overheated labor market where demand substantially exceeds supply. Job creation still exceeds, you know, the sort of the level that would hold the market where it is. So that's that's a picture. Do we see, you know, we keep looking for signs that that sort of the beginning of a gradual softening is happening. You know, maybe that's there, but it's not it's not obvious to me because wages aren't coming down. They're just moving sideways at an elevated level both ECI and hours early earnings. We want to see we would love to see vacancies coming down quits coming down. They are coming down vacancies are below their all time high, but you know, not by as much as we thought because in that, you know, the data series is volatile. We never take any one reading. We always look at, you know, two or three. So it's a mixed picture. I don't I don't see the case for real softening just yet, but we look at I guess I just as I just showed you, we look at a very broad range of data on the labor market. So do you see wages as being a significant driver of inflation? You know, I think wages have an effect on inflation. Inflation has an effect on wages. I think that's always been the case. There's always a going back and forth. The question is, is that really elevated right now? I don't think so. I don't think wages are are the principal story of why prices are going up. I don't think that I also don't think that we see a wage price spiral. But again, it's not something you can, you know, once you see it, you're in trouble. So we don't want to see it. We want wages to go up. We just want them to go up at a level that's sustainable and consistent with 2% inflation. And, you know, we think we can we do think that given that, you know, given the data that we have that this labor market can soften without having to soften as much as history would indicate through the unemployment channel. It can soften through job openings declining. We think there's there's a room for that, but, you know, we won't know that that'll be that'll be discovered empirically. Thank you so much. Kayla Towshi from CNBC. Earlier last month, the United Nations warned that there could be a global recession of central banks didn't change course. The new UK Prime Minister warned of a profound economic crisis there. And I'm wondering how the Fed is weighing international developments in light of a very strong economy here in the US that would seem to be bucking those trends. So, of course, we keep close tabs on economic developments and also geopolitical developments that are relevant to the economy abroad. We're in very frequent contact with our with our foreign counterparts both, you know, through the IMF meetings and the regular meetings with central banks that we have and I have won this weekend with with many, many central bankers. So, we're in touch with all of that. So, I guess what it's, you know, it's clear clearly a time, difficult time in the global economy. We're seeing, you know, very high inflation in Europe significantly because of high energy prices related to the war in Ukraine. And, you know, we're seeing China's having issues with the zero-COVID policy and much slower growth than we're used to seeing. So, we're seeing, we see those difficulties. The strong dollar is a challenge for some countries. But, you know, we take all of that into account in our models. We think about the spillovers and that sort of thing. Here in the United States, we have a strong economy and we have an economy where inflation is running at 5%. Core PCE inflation, which is a really good indicator of what's going on for us is the way we see it, is running at 5.1% on a 12-month basis. And, sort of, similar to that on a 36- and 9-month basis. So, we know that we need to use our tools to get inflation of the control. The world's not going to be better off if we fail to do that. That's a task we need to do. Price stability in the United States is a good thing for the global economy over a long period of time. Price stability is the kind of thing that pays dividends for our economy for decades, hopefully. Even though it may be difficult to get it back, getting it back is something that provides value to the people we serve for the long run. I think I could just follow up on that. Thank you. The Fed has acknowledged in the past that the tools that you have don't affect things like energy and food prices that stem from some of those conflicts overseas. And there are some of the biggest pain points for consumers. So, as you pursue the current path that you've outlined, is there a risk that some of those prices simply don't come down? We don't directly affect, for the most part, food and energy prices, but the demand channel does affect them just at the margin. The thing about the United States is that we also have strong, in many other jurisdictions, the principal problem really is energy. In the United States, we also have a demand issue. We've got an imbalance between demand and supply, which you see in many parts of the economy. So, our tools are well suited to work on that problem, and that's what we're doing. You're right, though. We don't, you know, the price of oil is set globally, and it's not something we can affect. I think by the actions that we take, though, we help keep longer term inflation expectations anchored and keep the public believing in 2% inflation by the things that we do even at times when energy is part of the story of why inflation is high. Hi, Chair Powell, Jadal Marti with Bloomberg. So, the Fed is facing two more ethics-related incidents with the revision of the financial statements from President Bostic and President Bullard speaking out of closed event. So, some senators, like Elizabeth Warren, are seeing that this is a sign of greater ethics problems at the Fed. Could you talk about what this does to the public's trust in the bank and what the Fed is doing to prevent this kind of behavior from becoming common? Sure. So, you're right. The public's trust is really the feds in any central bank's most important asset, and anytime one of us, one of the policy makers, violates or fall short of those rules, we do risk undermining that trust, and we take that very seriously. We do. So, at the beginning of our meeting yesterday, actually, we had a committee discussion of the full committee on the importance of holding ourselves individually and collectively accountable for knowing and following the high standard that set out in our existing rules with respect to both personal investment activities and external communications. And we've taken a number of steps, and I would just say we do understand how important those issues are. I would say that our new investment program that we have is up now and running, and actually was through that, that the problems with President Bostic's disclosures were discovered when he filed his new disclosures. We now have a central group here at the Board of Governors that looks into disclosures and follows them and approves people's disclosures and also all of their trades. Any trade anyone has to make, who's covered, has to be approved pre-approved, and there's a lag. It has to be pre-approved 45 days before it happens, so there's no ability to game market. It's a really good system. It worked here. And I think we all said to each other yesterday, actually yesterday morning, we recommitted to each other into this institution to hold ourselves to the highest standards and avoid these problems. Do you have an update on the investigations that are pending? As you know, I referred the matter concerning President Bostic to the Inspector General. Once that happens, I don't discuss it with the Inspector General with anybody. Inspector General has the ability to do investigations. We don't really have that, so that's what he's doing. Michael McKee from Bloomberg Television and Radio. Earlier this year, you touted the three-month bill yield out to 18 months as the yield curve with 100% explanatory power. And you said, quote, if it's inverted, that means the Fed's going to cut, which means the economy is weak. That curve is only two basis points away from inversion now, so I'm wondering why you are so confident that you have not overtightened, particularly given that rates work with a lag? Well, so we do monitor the near-term forward spread. You're right. And that's been our preferred measure. We think it, you know, just empirically it dominates the ones that people tend to look at, which is two's, tens and things like that. So it's not inverted. And also you have to look at why things, you know, why the rate curve is doing what it's doing. It can be doing that because it expects cuts or because it expects inflation to come down. In this case, if you're in a situation where the markets are pricing in significant declines in inflation, that's going to affect the forward curve. So yes, we monitor it. You're right. And that's what I would say. If I could follow up, you also said several meetings ago that the risk of doing too little outweighed the risk of doing too much. Is what you're trying to tell us today is that risk assessment has changed a little bit? Well, what's happened is time has passed and we've raised interest rates by 375 basis points. I would not, I would not change a word in that statement though. I think until we get inflation down, you'll be hearing that from me. Again, if if if if we over tighten and we don't want to, you know, we want to get this exactly right. But if we over tighten, then we have the ability with our tools, which are powerful to as we showed at the beginning of the pandemic, that's an issue. So that's the end of the episode. We can support economic activity strongly if that happens, if that's necessary. On the other hand, if you if you make the mistake in the other direction and you let this drag on, then it's a year or two down the road and you're realizing inflation behaving the way it can, you're realizing you didn't actually get it yet to go back in. It really is that it has become entrenched in people's thinking and the record is that the employment costs, the cost to the people that we don't want to hurt, you know, they go up with the passage of time. That's that's really how I look at it. That isn't going to change. What has changed though, you're right, we're farther along now. And I think as as we're farther along, we're now focused on on that, you know, what's what's the place, what's the level we need to get to to rates. And you know, I don't know what we'll do when we get there, by the way, we, you know, it doesn't, we'll have to see. There's been no decision or discussion around exactly what steps we would take at that point. But the first thing is to is to find your way there. Thanks Chris. Thank you. Chris Ruggaver and Associated Press. Just to go back to housing for a minute, you mentioned the impact that rate increases have had on housing. Home sales are down 25% in the past year and so forth. But none of this is really showing up. And as you know, in the government's inflation measures. And as we go forward, private real time data is clearly showing these hits to housing. Are you going to need to put a greater weight on that in order to ascertain things like whether there's overtaking going on? Or will you still focus as much on the more lagging government indicators? So this is an interesting subject. So I start by saying, I guess, that the measure that's in the CPI and the PCE. It captures rents for all tenants, not just in new, not just new leases. And that makes sense, actually, because that, for that reason, that conceptually, that is, that's sort of the right target for monetary policy. The same thing is true for owners equivalent rent, which comes off of it is a re-weighting of tenant rents. The private measures are, of course, good at picking up the, you know, the, at the margin, the new leases. And, you know, they tell you a couple things. One thing is once you, so I think right now, if you look at the pattern, a pattern of that series of the new leases, it was, it's very pro cyclical. So rents went up much more than the CPI and PCE rents did. And now they're coming down faster. So what, but what you, the implication is that we, there are still as people, as, as, as non new leases roll over and become an, an expire, right? You still, there's still in the pipeline. There's still some significant rate increases coming. Okay. But at some point, once you get through that, the new leases are going to tell you that what they're telling you is there will come a point at which, at which rent inflation will start to come down. And, with that point is, is well out from where we are now. So we're well aware of that, of course, and we look at it. And we, you know, but I would say that in terms of what the right way to think about inflation really is to look at the, at the, at the measure that we do look at, but, but considering that we also know that, that at some point, you'll see rents coming down. And just a quick follow, it looks like stock and bond markets are reacting positively to your announcements so far. Is that something you wanted to see? Is that a problem or what, how much that might affect your future policy to see this positive reaction? You know, we're not, we're not targeting any, any one or two particular things. You know, our message should be, what I'm trying to do is make sure that our message is clear, which is that we think we have a ways to go. We have some ground to cover with interest rates before we get to, before we get to that level of interest rates that we think is sufficiently restrictive. And putting that in the statement and identifying that as a goal is an important step. And that's, it's meant to put that question really as the important one now going forward. I've also said that, that we think that the level of rates that we, we estimated in September, the incoming data suggests that that's actually going to be higher. And that's been the pattern. I mean, I would have little confidence that the forecast, if we made a forecast today, if we were doing an SCP today, you know, the pattern has been that one after another, if they go up and, you know, that'll end when it ends, but there's no sense that, that, you know, that inflation is, is coming down to just, if you look at the, I have a table of the, the last 12 months of 12 month readings. And there's really no pattern that we're exactly where we were a year ago. Okay, so I would also say it's premature to discuss pausing. And it's not something that we're thinking about that's, that's really not a conversation to be had now we have, we have a ways to go. And the last thing I'll say is that I would want people to understand our commitment to getting this done and to not making the mistake of, of, of, of not doing enough or the mistake of withdrawing our, our strong policy and doing that too soon. So those, I, I control those messages and, and that's my job. Edward Lawrence with Fox Business. Thank you, Fed Chairman. So how big of a headwind is all the fiscal spending to what the Federal Reserve is trying to do to get inflation back to the 2% target? You know, in theory it was a headwind this year, but I do think the broader context is that you have households that have these significant amounts of savings and can keep spending. Even so, so I think those two things do tend to wage to sort of counterbalance each other out. It appears consumer spending is, is still positive. It's at pretty modest growth levels. It's not shrinking, but, and, you know, people are, and, you know, the banks that deal with retail customers. And many retailers will tell you that the consumers are still buying and they're, and they're still, you know, real, they're, they're, they're fine. So I don't know how big the fiscal headwinds are and they haven't shown up in the way that we thought they would in restraining spending. So it must, must have to do with the, with the savings that people have. What about the spending? There's tens of billions yet to be spent. I mean, from the inflation reduction, the American Rescue Plan, Chips Act, bipartisan infrastructure bill. How does that go into playing your thinking about the future? You know, it's, um, demand is going to have some support from those savings and also from the strong demand that's still in the labor market. We still see pretty significant demand and, and, and, um, a tightening labor market in some respects, although I think overall, I would say it's not really tightening or, or loosening. So we see those things and what those things tell us is that, you know, our job is going to require some resolve and some patience over time. We, we're going to have to stick with this. It's, and, and, you know, that's just, we take, we take all that as a given, but we know what our objective is and we know what our tools can do and. That's how we think about it. Thanks for the last question. Hi, Chair Powell, Nancy Marshall, Ken sir from Marketplace. I'm wondering, has the window for a soft landing narrowed? Do you still think it's possible? Has the narrowed? Yes. Is it still possible? Yes. I think, um, we've always said it was going to be difficult, but I think to the extent rates have to go higher and stay higher for longer. It becomes harder to, to see the path. It's, it's narrowed. I would say the path is narrowed over the course of the last year, really. Hard to say, hard to say, you know, again, I would say that the, the sort of array of data in the labor market is highly unusual and to many economists. There is a path to, there's your ordinary, there is a relationship to GP going down and, and vacancies declining, translating into unemployment or there's Ocons law. And so all those things are relationships that are in the data and they're very real. There is a little bit different this time though, because you have this tremendously high level of vacancies and we think on a very steep part of the beverage curve. All I would say is that the, the law, the job losses may turn out to be less than would be indicated by those traditional measures because, because job openings are so elevated and because the labor market is so strong. Yeah, again, that's going to be something we discover empirically. I think no one knows whether there's going to be a recession or not. And if so, how, how bad that recession would be. And, you know, our job is to restore, restore price stability so that we can have a strong labor market that benefits all over time. And that's what we're going to do. But just real quickly, why do you feel like the window has narrowed? Because we haven't seen inflation coming down. The implication of inflation not coming down. And what we would expect by now to have seen is that as the, really as a supply side problems have, had resolved themselves. We would have expected goods inflation to come down by now, long since by now. And it really hasn't, although it's, it's, it actually it has come down, but it's not to the extent we had hoped. At the same time, now you see services inflation, core services inflation moving up. And I just think that the inflation picture has become more and more challenging over the course of this year without question. That means that we have to have policy be more restrictive. And that narrows the path to a self landing, I would say. Thanks very much.\n"
     ]
    }
   ],
   "source": [
    "print(transcription['text'])"
   ]
  },
  {
   "cell_type": "markdown",
   "id": "b64bf1a9",
   "metadata": {},
   "source": [
    "## Combining Speech Data with Price Data\n",
    "\n",
    "Having generated the transcription for the FOMC speech, we can see how the speech maps to the price of the S&P 500."
   ]
  },
  {
   "cell_type": "code",
   "execution_count": 44,
   "id": "c8d0247c",
   "metadata": {},
   "outputs": [],
   "source": [
    "import pandas as pd"
   ]
  },
  {
   "cell_type": "code",
   "execution_count": 54,
   "id": "d744e816",
   "metadata": {},
   "outputs": [],
   "source": [
    "spy = pd.read_csv(\"spy.csv\")"
   ]
  },
  {
   "cell_type": "code",
   "execution_count": 55,
   "id": "f85ef796",
   "metadata": {},
   "outputs": [
    {
     "name": "stdout",
     "output_type": "stream",
     "text": [
      "<class 'pandas.core.frame.DataFrame'>\n",
      "RangeIndex: 543 entries, 0 to 542\n",
      "Data columns (total 8 columns):\n",
      " #   Column    Non-Null Count  Dtype  \n",
      "---  ------    --------------  -----  \n",
      " 0   date      543 non-null    object \n",
      " 1   open      543 non-null    float64\n",
      " 2   high      543 non-null    float64\n",
      " 3   low       543 non-null    float64\n",
      " 4   close     543 non-null    float64\n",
      " 5   volume    543 non-null    float64\n",
      " 6   average   543 non-null    float64\n",
      " 7   barCount  543 non-null    int64  \n",
      "dtypes: float64(6), int64(1), object(1)\n",
      "memory usage: 34.1+ KB\n"
     ]
    }
   ],
   "source": [
    "spy.info()"
   ]
  },
  {
   "cell_type": "code",
   "execution_count": 56,
   "id": "5f9ec278",
   "metadata": {},
   "outputs": [
    {
     "data": {
      "text/html": [
       "<div>\n",
       "<style scoped>\n",
       "    .dataframe tbody tr th:only-of-type {\n",
       "        vertical-align: middle;\n",
       "    }\n",
       "\n",
       "    .dataframe tbody tr th {\n",
       "        vertical-align: top;\n",
       "    }\n",
       "\n",
       "    .dataframe thead th {\n",
       "        text-align: right;\n",
       "    }\n",
       "</style>\n",
       "<table border=\"1\" class=\"dataframe\">\n",
       "  <thead>\n",
       "    <tr style=\"text-align: right;\">\n",
       "      <th></th>\n",
       "      <th>date</th>\n",
       "      <th>open</th>\n",
       "      <th>high</th>\n",
       "      <th>low</th>\n",
       "      <th>close</th>\n",
       "      <th>volume</th>\n",
       "      <th>average</th>\n",
       "      <th>barCount</th>\n",
       "    </tr>\n",
       "  </thead>\n",
       "  <tbody>\n",
       "    <tr>\n",
       "      <th>0</th>\n",
       "      <td>2022-11-02 14:31:15</td>\n",
       "      <td>387.13</td>\n",
       "      <td>387.17</td>\n",
       "      <td>386.75</td>\n",
       "      <td>386.83</td>\n",
       "      <td>82173.0</td>\n",
       "      <td>386.884</td>\n",
       "      <td>444</td>\n",
       "    </tr>\n",
       "    <tr>\n",
       "      <th>1</th>\n",
       "      <td>2022-11-02 14:31:20</td>\n",
       "      <td>386.80</td>\n",
       "      <td>387.00</td>\n",
       "      <td>386.80</td>\n",
       "      <td>386.91</td>\n",
       "      <td>38918.0</td>\n",
       "      <td>386.913</td>\n",
       "      <td>234</td>\n",
       "    </tr>\n",
       "    <tr>\n",
       "      <th>2</th>\n",
       "      <td>2022-11-02 14:31:25</td>\n",
       "      <td>386.94</td>\n",
       "      <td>386.96</td>\n",
       "      <td>386.55</td>\n",
       "      <td>386.64</td>\n",
       "      <td>48165.0</td>\n",
       "      <td>386.749</td>\n",
       "      <td>232</td>\n",
       "    </tr>\n",
       "    <tr>\n",
       "      <th>3</th>\n",
       "      <td>2022-11-02 14:31:30</td>\n",
       "      <td>386.64</td>\n",
       "      <td>386.95</td>\n",
       "      <td>386.59</td>\n",
       "      <td>386.86</td>\n",
       "      <td>30688.0</td>\n",
       "      <td>386.760</td>\n",
       "      <td>190</td>\n",
       "    </tr>\n",
       "    <tr>\n",
       "      <th>4</th>\n",
       "      <td>2022-11-02 14:31:35</td>\n",
       "      <td>386.91</td>\n",
       "      <td>386.92</td>\n",
       "      <td>386.81</td>\n",
       "      <td>386.87</td>\n",
       "      <td>22270.0</td>\n",
       "      <td>386.862</td>\n",
       "      <td>130</td>\n",
       "    </tr>\n",
       "  </tbody>\n",
       "</table>\n",
       "</div>"
      ],
      "text/plain": [
       "                  date    open    high     low   close   volume  average  \\\n",
       "0  2022-11-02 14:31:15  387.13  387.17  386.75  386.83  82173.0  386.884   \n",
       "1  2022-11-02 14:31:20  386.80  387.00  386.80  386.91  38918.0  386.913   \n",
       "2  2022-11-02 14:31:25  386.94  386.96  386.55  386.64  48165.0  386.749   \n",
       "3  2022-11-02 14:31:30  386.64  386.95  386.59  386.86  30688.0  386.760   \n",
       "4  2022-11-02 14:31:35  386.91  386.92  386.81  386.87  22270.0  386.862   \n",
       "\n",
       "   barCount  \n",
       "0       444  \n",
       "1       234  \n",
       "2       232  \n",
       "3       190  \n",
       "4       130  "
      ]
     },
     "execution_count": 56,
     "metadata": {},
     "output_type": "execute_result"
    }
   ],
   "source": [
    "spy.head()"
   ]
  },
  {
   "cell_type": "markdown",
   "id": "18d6961b",
   "metadata": {},
   "source": [
    "The data that we have downloaded is the information for the S&P 500, updated every 5 seconds, and coincides with the time at which the speech was being streamed.\n",
    "\n",
    "Using the segements of the `transcription` dictionary, we can assign a segment to each of these 5 second intervals."
   ]
  },
  {
   "cell_type": "code",
   "execution_count": 57,
   "id": "11970051",
   "metadata": {},
   "outputs": [],
   "source": [
    "for segment in transcription['segments']:\n",
    "    second = int(segment['start'])\n",
    "    second -= (second % 5)\n",
    "    spy.loc[second/5, 'text'] = segment['text']"
   ]
  },
  {
   "cell_type": "code",
   "execution_count": 58,
   "id": "acf78799",
   "metadata": {},
   "outputs": [
    {
     "data": {
      "text/html": [
       "<div>\n",
       "<style scoped>\n",
       "    .dataframe tbody tr th:only-of-type {\n",
       "        vertical-align: middle;\n",
       "    }\n",
       "\n",
       "    .dataframe tbody tr th {\n",
       "        vertical-align: top;\n",
       "    }\n",
       "\n",
       "    .dataframe thead th {\n",
       "        text-align: right;\n",
       "    }\n",
       "</style>\n",
       "<table border=\"1\" class=\"dataframe\">\n",
       "  <thead>\n",
       "    <tr style=\"text-align: right;\">\n",
       "      <th></th>\n",
       "      <th>date</th>\n",
       "      <th>open</th>\n",
       "      <th>high</th>\n",
       "      <th>low</th>\n",
       "      <th>close</th>\n",
       "      <th>volume</th>\n",
       "      <th>average</th>\n",
       "      <th>barCount</th>\n",
       "      <th>text</th>\n",
       "    </tr>\n",
       "  </thead>\n",
       "  <tbody>\n",
       "    <tr>\n",
       "      <th>0</th>\n",
       "      <td>2022-11-02 14:31:15</td>\n",
       "      <td>387.13</td>\n",
       "      <td>387.17</td>\n",
       "      <td>386.75</td>\n",
       "      <td>386.83</td>\n",
       "      <td>82173.0</td>\n",
       "      <td>386.884</td>\n",
       "      <td>444</td>\n",
       "      <td>Good afternoon. My colleagues and I are stron...</td>\n",
       "    </tr>\n",
       "    <tr>\n",
       "      <th>1</th>\n",
       "      <td>2022-11-02 14:31:20</td>\n",
       "      <td>386.80</td>\n",
       "      <td>387.00</td>\n",
       "      <td>386.80</td>\n",
       "      <td>386.91</td>\n",
       "      <td>38918.0</td>\n",
       "      <td>386.913</td>\n",
       "      <td>234</td>\n",
       "      <td>We have both the tools that we need and the r...</td>\n",
       "    </tr>\n",
       "    <tr>\n",
       "      <th>2</th>\n",
       "      <td>2022-11-02 14:31:25</td>\n",
       "      <td>386.94</td>\n",
       "      <td>386.96</td>\n",
       "      <td>386.55</td>\n",
       "      <td>386.64</td>\n",
       "      <td>48165.0</td>\n",
       "      <td>386.749</td>\n",
       "      <td>232</td>\n",
       "      <td>NaN</td>\n",
       "    </tr>\n",
       "    <tr>\n",
       "      <th>3</th>\n",
       "      <td>2022-11-02 14:31:30</td>\n",
       "      <td>386.64</td>\n",
       "      <td>386.95</td>\n",
       "      <td>386.59</td>\n",
       "      <td>386.86</td>\n",
       "      <td>30688.0</td>\n",
       "      <td>386.760</td>\n",
       "      <td>190</td>\n",
       "      <td>Price stability is the responsibility of the ...</td>\n",
       "    </tr>\n",
       "    <tr>\n",
       "      <th>4</th>\n",
       "      <td>2022-11-02 14:31:35</td>\n",
       "      <td>386.91</td>\n",
       "      <td>386.92</td>\n",
       "      <td>386.81</td>\n",
       "      <td>386.87</td>\n",
       "      <td>22270.0</td>\n",
       "      <td>386.862</td>\n",
       "      <td>130</td>\n",
       "      <td>Without price stability, the economy does not...</td>\n",
       "    </tr>\n",
       "  </tbody>\n",
       "</table>\n",
       "</div>"
      ],
      "text/plain": [
       "                  date    open    high     low   close   volume  average  \\\n",
       "0  2022-11-02 14:31:15  387.13  387.17  386.75  386.83  82173.0  386.884   \n",
       "1  2022-11-02 14:31:20  386.80  387.00  386.80  386.91  38918.0  386.913   \n",
       "2  2022-11-02 14:31:25  386.94  386.96  386.55  386.64  48165.0  386.749   \n",
       "3  2022-11-02 14:31:30  386.64  386.95  386.59  386.86  30688.0  386.760   \n",
       "4  2022-11-02 14:31:35  386.91  386.92  386.81  386.87  22270.0  386.862   \n",
       "\n",
       "   barCount                                               text  \n",
       "0       444   Good afternoon. My colleagues and I are stron...  \n",
       "1       234   We have both the tools that we need and the r...  \n",
       "2       232                                                NaN  \n",
       "3       190   Price stability is the responsibility of the ...  \n",
       "4       130   Without price stability, the economy does not...  "
      ]
     },
     "execution_count": 58,
     "metadata": {},
     "output_type": "execute_result"
    }
   ],
   "source": [
    "spy.head()"
   ]
  },
  {
   "cell_type": "markdown",
   "id": "1c0f76e6",
   "metadata": {},
   "source": [
    "Additionally, we can calculate the percentage change for each of these 5 second increments."
   ]
  },
  {
   "cell_type": "code",
   "execution_count": 61,
   "id": "27a259fe",
   "metadata": {},
   "outputs": [],
   "source": [
    "spy['percent'] = ((spy['close'] - spy['open']) / spy['open']) * 100"
   ]
  },
  {
   "cell_type": "code",
   "execution_count": 62,
   "id": "20896a75",
   "metadata": {},
   "outputs": [
    {
     "data": {
      "text/html": [
       "<div>\n",
       "<style scoped>\n",
       "    .dataframe tbody tr th:only-of-type {\n",
       "        vertical-align: middle;\n",
       "    }\n",
       "\n",
       "    .dataframe tbody tr th {\n",
       "        vertical-align: top;\n",
       "    }\n",
       "\n",
       "    .dataframe thead th {\n",
       "        text-align: right;\n",
       "    }\n",
       "</style>\n",
       "<table border=\"1\" class=\"dataframe\">\n",
       "  <thead>\n",
       "    <tr style=\"text-align: right;\">\n",
       "      <th></th>\n",
       "      <th>date</th>\n",
       "      <th>open</th>\n",
       "      <th>high</th>\n",
       "      <th>low</th>\n",
       "      <th>close</th>\n",
       "      <th>volume</th>\n",
       "      <th>average</th>\n",
       "      <th>barCount</th>\n",
       "      <th>text</th>\n",
       "      <th>percent</th>\n",
       "    </tr>\n",
       "  </thead>\n",
       "  <tbody>\n",
       "    <tr>\n",
       "      <th>0</th>\n",
       "      <td>2022-11-02 14:31:15</td>\n",
       "      <td>387.13</td>\n",
       "      <td>387.17</td>\n",
       "      <td>386.75</td>\n",
       "      <td>386.83</td>\n",
       "      <td>82173.0</td>\n",
       "      <td>386.884</td>\n",
       "      <td>444</td>\n",
       "      <td>Good afternoon. My colleagues and I are stron...</td>\n",
       "      <td>-0.077493</td>\n",
       "    </tr>\n",
       "    <tr>\n",
       "      <th>1</th>\n",
       "      <td>2022-11-02 14:31:20</td>\n",
       "      <td>386.80</td>\n",
       "      <td>387.00</td>\n",
       "      <td>386.80</td>\n",
       "      <td>386.91</td>\n",
       "      <td>38918.0</td>\n",
       "      <td>386.913</td>\n",
       "      <td>234</td>\n",
       "      <td>We have both the tools that we need and the r...</td>\n",
       "      <td>0.028438</td>\n",
       "    </tr>\n",
       "    <tr>\n",
       "      <th>2</th>\n",
       "      <td>2022-11-02 14:31:25</td>\n",
       "      <td>386.94</td>\n",
       "      <td>386.96</td>\n",
       "      <td>386.55</td>\n",
       "      <td>386.64</td>\n",
       "      <td>48165.0</td>\n",
       "      <td>386.749</td>\n",
       "      <td>232</td>\n",
       "      <td>NaN</td>\n",
       "      <td>-0.077531</td>\n",
       "    </tr>\n",
       "    <tr>\n",
       "      <th>3</th>\n",
       "      <td>2022-11-02 14:31:30</td>\n",
       "      <td>386.64</td>\n",
       "      <td>386.95</td>\n",
       "      <td>386.59</td>\n",
       "      <td>386.86</td>\n",
       "      <td>30688.0</td>\n",
       "      <td>386.760</td>\n",
       "      <td>190</td>\n",
       "      <td>Price stability is the responsibility of the ...</td>\n",
       "      <td>0.056900</td>\n",
       "    </tr>\n",
       "    <tr>\n",
       "      <th>4</th>\n",
       "      <td>2022-11-02 14:31:35</td>\n",
       "      <td>386.91</td>\n",
       "      <td>386.92</td>\n",
       "      <td>386.81</td>\n",
       "      <td>386.87</td>\n",
       "      <td>22270.0</td>\n",
       "      <td>386.862</td>\n",
       "      <td>130</td>\n",
       "      <td>Without price stability, the economy does not...</td>\n",
       "      <td>-0.010338</td>\n",
       "    </tr>\n",
       "  </tbody>\n",
       "</table>\n",
       "</div>"
      ],
      "text/plain": [
       "                  date    open    high     low   close   volume  average  \\\n",
       "0  2022-11-02 14:31:15  387.13  387.17  386.75  386.83  82173.0  386.884   \n",
       "1  2022-11-02 14:31:20  386.80  387.00  386.80  386.91  38918.0  386.913   \n",
       "2  2022-11-02 14:31:25  386.94  386.96  386.55  386.64  48165.0  386.749   \n",
       "3  2022-11-02 14:31:30  386.64  386.95  386.59  386.86  30688.0  386.760   \n",
       "4  2022-11-02 14:31:35  386.91  386.92  386.81  386.87  22270.0  386.862   \n",
       "\n",
       "   barCount                                               text   percent  \n",
       "0       444   Good afternoon. My colleagues and I are stron... -0.077493  \n",
       "1       234   We have both the tools that we need and the r...  0.028438  \n",
       "2       232                                                NaN -0.077531  \n",
       "3       190   Price stability is the responsibility of the ...  0.056900  \n",
       "4       130   Without price stability, the economy does not... -0.010338  "
      ]
     },
     "execution_count": 62,
     "metadata": {},
     "output_type": "execute_result"
    }
   ],
   "source": [
    "spy.head()"
   ]
  },
  {
   "cell_type": "markdown",
   "id": "8944e146",
   "metadata": {},
   "source": [
    "However, as we can see from the DataFrame above, the percentage change in many of these instances is very small. We can therefore filter out more notable percentage changes and see what was said that could have effected this."
   ]
  },
  {
   "cell_type": "code",
   "execution_count": 67,
   "id": "0df8143d",
   "metadata": {},
   "outputs": [
    {
     "data": {
      "image/png": "[encoded data removed]",
      "text/plain": [
       "<Figure size 1920x1440 with 1 Axes>"
      ]
     },
     "metadata": {},
     "output_type": "display_data"
    }
   ],
   "source": [
    "import matplotlib.pyplot as plt\n",
    "import seaborn as sns\n",
    "\n",
    "plt.figure(dpi=300)\n",
    "plt.title(\"Percentage Change Distribution\")\n",
    "sns.histplot(x=spy['percent'])\n",
    "plt.xlabel(\"Percentage Change\")\n",
    "plt.show()"
   ]
  },
  {
   "cell_type": "markdown",
   "id": "f2a4690f",
   "metadata": {},
   "source": [
    "We see that the percentage changes are somewhat normally distributed. We can arbitrarily set a threshold of 0.2 as constituting a big percentage change. That being said, a 20% change in 5 seconds is rather significant."
   ]
  },
  {
   "cell_type": "code",
   "execution_count": 63,
   "id": "a58860cf",
   "metadata": {},
   "outputs": [],
   "source": [
    "big_moves = spy[abs(spy['percent']) > 0.2]"
   ]
  },
  {
   "cell_type": "code",
   "execution_count": 68,
   "id": "bbf2b580",
   "metadata": {},
   "outputs": [
    {
     "data": {
      "text/html": [
       "<div>\n",
       "<style scoped>\n",
       "    .dataframe tbody tr th:only-of-type {\n",
       "        vertical-align: middle;\n",
       "    }\n",
       "\n",
       "    .dataframe tbody tr th {\n",
       "        vertical-align: top;\n",
       "    }\n",
       "\n",
       "    .dataframe thead th {\n",
       "        text-align: right;\n",
       "    }\n",
       "</style>\n",
       "<table border=\"1\" class=\"dataframe\">\n",
       "  <thead>\n",
       "    <tr style=\"text-align: right;\">\n",
       "      <th></th>\n",
       "      <th>date</th>\n",
       "      <th>open</th>\n",
       "      <th>high</th>\n",
       "      <th>low</th>\n",
       "      <th>close</th>\n",
       "      <th>volume</th>\n",
       "      <th>average</th>\n",
       "      <th>barCount</th>\n",
       "      <th>text</th>\n",
       "      <th>percent</th>\n",
       "    </tr>\n",
       "  </thead>\n",
       "  <tbody>\n",
       "    <tr>\n",
       "      <th>61</th>\n",
       "      <td>2022-11-02 14:36:20</td>\n",
       "      <td>387.74</td>\n",
       "      <td>387.84</td>\n",
       "      <td>386.42</td>\n",
       "      <td>386.45</td>\n",
       "      <td>214600.0</td>\n",
       "      <td>387.037</td>\n",
       "      <td>1225</td>\n",
       "      <td>NaN</td>\n",
       "      <td>-0.332697</td>\n",
       "    </tr>\n",
       "    <tr>\n",
       "      <th>62</th>\n",
       "      <td>2022-11-02 14:36:25</td>\n",
       "      <td>386.40</td>\n",
       "      <td>386.44</td>\n",
       "      <td>385.36</td>\n",
       "      <td>385.52</td>\n",
       "      <td>289403.0</td>\n",
       "      <td>385.919</td>\n",
       "      <td>1731</td>\n",
       "      <td>At some point, as I've said in the last two p...</td>\n",
       "      <td>-0.227743</td>\n",
       "    </tr>\n",
       "    <tr>\n",
       "      <th>78</th>\n",
       "      <td>2022-11-02 14:37:45</td>\n",
       "      <td>383.70</td>\n",
       "      <td>383.70</td>\n",
       "      <td>382.90</td>\n",
       "      <td>382.93</td>\n",
       "      <td>152778.0</td>\n",
       "      <td>383.279</td>\n",
       "      <td>805</td>\n",
       "      <td>To conclude, we understand that our actions a...</td>\n",
       "      <td>-0.200678</td>\n",
       "    </tr>\n",
       "    <tr>\n",
       "      <th>93</th>\n",
       "      <td>2022-11-02 14:39:00</td>\n",
       "      <td>383.67</td>\n",
       "      <td>383.69</td>\n",
       "      <td>382.82</td>\n",
       "      <td>382.83</td>\n",
       "      <td>64429.0</td>\n",
       "      <td>383.275</td>\n",
       "      <td>405</td>\n",
       "      <td>How will we know that we've reached that level?</td>\n",
       "      <td>-0.218938</td>\n",
       "    </tr>\n",
       "    <tr>\n",
       "      <th>123</th>\n",
       "      <td>2022-11-02 14:41:30</td>\n",
       "      <td>383.53</td>\n",
       "      <td>384.97</td>\n",
       "      <td>383.37</td>\n",
       "      <td>384.92</td>\n",
       "      <td>151834.0</td>\n",
       "      <td>384.114</td>\n",
       "      <td>1044</td>\n",
       "      <td>Of course, with the lags between policy and e...</td>\n",
       "      <td>0.362423</td>\n",
       "    </tr>\n",
       "    <tr>\n",
       "      <th>154</th>\n",
       "      <td>2022-11-02 14:44:05</td>\n",
       "      <td>385.86</td>\n",
       "      <td>385.87</td>\n",
       "      <td>385.07</td>\n",
       "      <td>385.08</td>\n",
       "      <td>73029.0</td>\n",
       "      <td>385.440</td>\n",
       "      <td>486</td>\n",
       "      <td>NaN</td>\n",
       "      <td>-0.202146</td>\n",
       "    </tr>\n",
       "  </tbody>\n",
       "</table>\n",
       "</div>"
      ],
      "text/plain": [
       "                    date    open    high     low   close    volume  average  \\\n",
       "61   2022-11-02 14:36:20  387.74  387.84  386.42  386.45  214600.0  387.037   \n",
       "62   2022-11-02 14:36:25  386.40  386.44  385.36  385.52  289403.0  385.919   \n",
       "78   2022-11-02 14:37:45  383.70  383.70  382.90  382.93  152778.0  383.279   \n",
       "93   2022-11-02 14:39:00  383.67  383.69  382.82  382.83   64429.0  383.275   \n",
       "123  2022-11-02 14:41:30  383.53  384.97  383.37  384.92  151834.0  384.114   \n",
       "154  2022-11-02 14:44:05  385.86  385.87  385.07  385.08   73029.0  385.440   \n",
       "\n",
       "     barCount                                               text   percent  \n",
       "61       1225                                                NaN -0.332697  \n",
       "62       1731   At some point, as I've said in the last two p... -0.227743  \n",
       "78        805   To conclude, we understand that our actions a... -0.200678  \n",
       "93        405    How will we know that we've reached that level? -0.218938  \n",
       "123      1044   Of course, with the lags between policy and e...  0.362423  \n",
       "154       486                                                NaN -0.202146  "
      ]
     },
     "execution_count": 68,
     "metadata": {},
     "output_type": "execute_result"
    }
   ],
   "source": [
    "big_moves"
   ]
  },
  {
   "cell_type": "code",
   "execution_count": 65,
   "id": "38192d2b",
   "metadata": {},
   "outputs": [
    {
     "name": "stdout",
     "output_type": "stream",
     "text": [
      "<class 'pandas.core.frame.DataFrame'>\n",
      "Int64Index: 6 entries, 61 to 154\n",
      "Data columns (total 10 columns):\n",
      " #   Column    Non-Null Count  Dtype  \n",
      "---  ------    --------------  -----  \n",
      " 0   date      6 non-null      object \n",
      " 1   open      6 non-null      float64\n",
      " 2   high      6 non-null      float64\n",
      " 3   low       6 non-null      float64\n",
      " 4   close     6 non-null      float64\n",
      " 5   volume    6 non-null      float64\n",
      " 6   average   6 non-null      float64\n",
      " 7   barCount  6 non-null      int64  \n",
      " 8   text      4 non-null      object \n",
      " 9   percent   6 non-null      float64\n",
      "dtypes: float64(7), int64(1), object(2)\n",
      "memory usage: 528.0+ bytes\n"
     ]
    }
   ],
   "source": [
    "big_moves.info()"
   ]
  },
  {
   "cell_type": "markdown",
   "id": "c143dbbd",
   "metadata": {},
   "source": [
    "We see that there are 6 instances where we saw a \"big move\". Let us visualise these."
   ]
  },
  {
   "cell_type": "code",
   "execution_count": 70,
   "id": "270500fc",
   "metadata": {},
   "outputs": [
    {
     "data": {
      "image/png": "[encoded data removed]",
      "text/plain": [
       "<Figure size 800x575 with 2 Axes>"
      ]
     },
     "metadata": {},
     "output_type": "display_data"
    }
   ],
   "source": [
    "import mplfinance as mpf\n",
    "\n",
    "df = spy\n",
    "df.index = pd.DatetimeIndex(df['date'])\n",
    "\n",
    "mpf.plot(df['2022-11-02 14:36':'2022-11-02 14:39'], type='candle')"
   ]
  },
  {
   "cell_type": "markdown",
   "id": "f48b5a37",
   "metadata": {},
   "source": [
    "What caused such a significant decline in price within such a few minutes? We can look at what was said prior to the changes in price."
   ]
  },
  {
   "cell_type": "code",
   "execution_count": 76,
   "id": "20d3710f",
   "metadata": {},
   "outputs": [
    {
     "name": "stdout",
     "output_type": "stream",
     "text": [
      "[nan\n",
      " \" With today's action, we've raised interest rates by 3 and 3-quarters percentage points this year.\"\n",
      " ' We anticipate that ongoing increases in the target range for the federal funds rate will be appropriate in order to attain a stance of monetary policy that is sufficiently restrictive to return inflation to 2% over time.'\n",
      " nan nan\n",
      " ' Financial conditions have tightened significantly in response to our policy actions, and we are seeing the effects on demand in the most interest rate sensitive sectors of the economy, such as housing.'\n",
      " nan\n",
      " ' It will take time, however, for the full effects of monetary restraint to be realized, especially on inflation.'\n",
      " \" That's why we say in our statement that in determining the pace of future increases in the target range, we will take into account the cumulative tightening of monetary policy and the lags with which monetary policy affects economic activity and inflation.\"\n",
      " nan]\n",
      "[\" With today's action, we've raised interest rates by 3 and 3-quarters percentage points this year.\"\n",
      " ' We anticipate that ongoing increases in the target range for the federal funds rate will be appropriate in order to attain a stance of monetary policy that is sufficiently restrictive to return inflation to 2% over time.'\n",
      " nan nan\n",
      " ' Financial conditions have tightened significantly in response to our policy actions, and we are seeing the effects on demand in the most interest rate sensitive sectors of the economy, such as housing.'\n",
      " nan\n",
      " ' It will take time, however, for the full effects of monetary restraint to be realized, especially on inflation.'\n",
      " \" That's why we say in our statement that in determining the pace of future increases in the target range, we will take into account the cumulative tightening of monetary policy and the lags with which monetary policy affects economic activity and inflation.\"\n",
      " nan nan]\n",
      "[' Our decisions will depend on the totality of incoming data and their implications for the outlook for economic activity and inflation.'\n",
      " ' We will continue to make our decisions meeting by being and communicate our thinking as clearly as possible.'\n",
      " nan\n",
      " \" We're taking forceful steps to moderate demand so that it comes into better alignment with supply.\"\n",
      " ' Our overarching focus is using our tools to bring inflation back down to our 2% goal and to keep longer term inflation expectations well anchored.'\n",
      " nan\n",
      " ' Reducing inflation is likely to require a sustained period of below trend growth and some softening of labor market conditions.'\n",
      " ' Restoring price stability is essential to set the stage for achieving maximum employment and stable prices in the longer run.'\n",
      " nan\n",
      " ' The historical record caution strongly against prematurely loosening policy.']\n",
      "[' Thank you. Colby Smith with the Financial Times.'\n",
      " \" Is a is a downshift contingent on a string of better inflation data specifically between now and let's say the December meeting?\"\n",
      " nan\n",
      " ' Is that something that the Fed could potentially proceed with independent of that data given the lag defects that you mentioned?'\n",
      " ' So a couple of things on that.'\n",
      " ' We do need to see inflation coming down decisively and good at evidence of that would be a series of down monthly readings.'\n",
      " \" Of course that's what we'd all love to see.\"\n",
      " \" But that's I've never thought of that as the appropriate test for slowing the pace of increases or for identifying the appropriately restrictive level that we're aiming for.\"\n",
      " nan\n",
      " \" We need to bring our policy stance down to a level that's sufficiently restrictive to bring inflation down to our 2% objective over the medium term.\"]\n",
      "[nan nan\n",
      " ' And we put that into our post meeting statement because that really does become the important question we think now is how far to go.'\n",
      " \" And I'll talk more about that.\"\n",
      " \" I think there's some ground to cover but before we meet that test and that's why we say that ongoing rate increases will be appropriate.\"\n",
      " ' And as I mentioned, incoming data between the meetings, both the strong labor market report, but particularly the CPI report, do suggest to me that we may ultimately move to higher levels than we thought at the time of the September meeting.'\n",
      " nan nan\n",
      " \" That level is very uncertain though and I would say, you know, we're going to find it over time.\"\n",
      " nan]\n",
      "[nan\n",
      " \" But there's no, I don't have any sense that we've over tightened or moved too fast. I think I think it's been good in a successful program. We that we've gotten this far this fast. Remember though that that we still think there's a need for ongoing rate increases.\"\n",
      " nan nan\n",
      " ' And we have some ground left to cover here and and cover it we will.'\n",
      " nan\n",
      " ' Nick Temeros of the Wall Street Journal, chair Powell, core BCE inflation on a three or six month annualized basis and on a 12 month basis has been running in the high fours close to 5%.'\n",
      " nan nan\n",
      " \" Is there any reason to think you won't have to raise rates at least above that level to be confident that you are imparting enough restraint to bring inflation down?\"]\n"
     ]
    }
   ],
   "source": [
    "indexes = big_moves.index\n",
    "\n",
    "for index in indexes:\n",
    "    print(spy[index-10:index]['text'].values)"
   ]
  },
  {
   "cell_type": "markdown",
   "id": "29a3da4d",
   "metadata": {},
   "source": [
    "From this we see a number of statements that will have caused the price to change. For example, the first sentence that we printed was:\n",
    "\n",
    "    \"We anticipate that ongoing increases in the target range for the federal funds rate will be appropriate in order to attain a stance of monetary policy that is sufficiently restrictive to return inflation to 2% over time.\"\n",
    "    \n",
    "Although this notebook conducted some very simple analysis of text data, it shows the potential ways in which we can use machine learning models for financial analysis. "
   ]
  }
 ],
 "metadata": {
  "kernelspec": {
   "display_name": "whisper",
   "language": "python",
   "name": "whisper"
  },
  "language_info": {
   "codemirror_mode": {
    "name": "ipython",
    "version": 3
   },
   "file_extension": ".py",
   "mimetype": "text/x-python",
   "name": "python",
   "nbconvert_exporter": "python",
   "pygments_lexer": "ipython3",
   "version": "3.8.15"
  }
 },
 "nbformat": 4,
 "nbformat_minor": 5
}
